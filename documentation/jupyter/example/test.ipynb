{
 "cells": [
  {
   "cell_type": "markdown",
   "id": "97651108-21d4-48dc-a322-4af0b0c8790a",
   "metadata": {},
   "source": [
    "Only run next cell to get the ENV variable to set before starting Jupyterlab after having defined TRAME_PARAVIEW=/ParaView.app/"
   ]
  },
  {
   "cell_type": "code",
   "execution_count": null,
   "id": "383795b4-4603-4732-90a8-d2f2edbf5537",
   "metadata": {},
   "outputs": [],
   "source": [
    "import trame.env.paraview"
   ]
  },
  {
   "cell_type": "markdown",
   "id": "e9d1072c-9326-48f1-bdab-26fe3331c658",
   "metadata": {},
   "source": [
    "Just run the following section once you've exported __PYTHONPATH__ and __DYLD_LIBRARY_PATH__ for mac"
   ]
  },
  {
   "cell_type": "code",
   "execution_count": 1,
   "id": "ae9f4e67-b4ab-4ea0-98e1-6c4958957b06",
   "metadata": {},
   "outputs": [],
   "source": [
    "from pv_visualizer.app.jupyter import show\n",
    "\n",
    "show()"
   ]
  }
 ],
 "metadata": {
  "kernelspec": {
   "display_name": "Python 3 (ipykernel)",
   "language": "python",
   "name": "python3"
  },
  "language_info": {
   "codemirror_mode": {
    "name": "ipython",
    "version": 3
   },
   "file_extension": ".py",
   "mimetype": "text/x-python",
   "name": "python",
   "nbconvert_exporter": "python",
   "pygments_lexer": "ipython3",
   "version": "3.9.13"
  }
 },
 "nbformat": 4,
 "nbformat_minor": 5
}
